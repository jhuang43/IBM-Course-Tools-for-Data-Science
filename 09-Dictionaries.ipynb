{
 "cells": [
  {
   "cell_type": "markdown",
   "metadata": {
    "collapsed": true
   },
   "source": [
    "#### Dictionaries\n",
    "\n",
    "Agenda<br>"
   ]
  },
  {
   "cell_type": "markdown",
   "metadata": {},
   "source": [
    "Dictionaries - another critical compound data type in Python (similar to associative arrays in other languages)<br>\n",
    "Holds data as a key-value pair; key can be any immutable data type and references a value that can be changed<br>\n",
    "Example: {1:'Nanda', 2:'Tim'}  \n",
    "Example: {'Jan':110, 'Feb':90}\n"
   ]
  },
  {
   "cell_type": "code",
   "execution_count": 1,
   "metadata": {},
   "outputs": [
    {
     "name": "stdout",
     "output_type": "stream",
     "text": [
      "{}\n",
      "{}\n",
      "{'Jan': 110, 'Feb': 90}\n"
     ]
    }
   ],
   "source": [
    "# create dictionaries\n",
    "\n",
    "dt={}\n",
    "print(dt)\n",
    "dt1=dict()\n",
    "print(dt1)\n",
    "dtSales={'Jan':110, 'Feb':90}\n",
    "print(dtSales)"
   ]
  },
  {
   "cell_type": "code",
   "execution_count": 2,
   "metadata": {},
   "outputs": [
    {
     "name": "stdout",
     "output_type": "stream",
     "text": [
      "{1: 'Nanda', 2: 'Tim'}\n"
     ]
    }
   ],
   "source": [
    "dt={}\n",
    "dt[1]='Nanda'\n",
    "dt[2]='Tim'\n",
    "print(dt)"
   ]
  },
  {
   "cell_type": "code",
   "execution_count": 3,
   "metadata": {},
   "outputs": [
    {
     "name": "stdout",
     "output_type": "stream",
     "text": [
      "{1: 'Nanda', 2: 'Sara', 3: 'Kim', 4: 'Juan'}\n"
     ]
    }
   ],
   "source": [
    "dt[2]='Sara'\n",
    "dt[3]='Kim'\n",
    "dt[4]='Juan'\n",
    "print(dt)"
   ]
  },
  {
   "cell_type": "code",
   "execution_count": 4,
   "metadata": {},
   "outputs": [
    {
     "name": "stdout",
     "output_type": "stream",
     "text": [
      "{1: 'Nanda', 2: 'Sara', 3: 'Kim', 4: 'Juan', 'five': 'Qian'}\n",
      "Juan\n",
      "Qian\n"
     ]
    }
   ],
   "source": [
    "dt['five']='Qian'\n",
    "print(dt)\n",
    "print (dt[4])\n",
    "print (dt['five'])\n",
    "\n",
    "\n",
    "# Note that it is up to us to designate meaningful keys! It is not like Lists where you use the index concept.\n",
    "# Also note that the order of items printed is not important; "
   ]
  },
  {
   "cell_type": "code",
   "execution_count": 5,
   "metadata": {},
   "outputs": [
    {
     "ename": "KeyError",
     "evalue": "5",
     "output_type": "error",
     "traceback": [
      "\u001b[1;31m---------------------------------------------------------------------------\u001b[0m",
      "\u001b[1;31mKeyError\u001b[0m                                  Traceback (most recent call last)",
      "\u001b[1;32m<ipython-input-5-63f2b6e196ff>\u001b[0m in \u001b[0;36m<module>\u001b[1;34m()\u001b[0m\n\u001b[1;32m----> 1\u001b[1;33m \u001b[0mprint\u001b[0m \u001b[1;33m(\u001b[0m\u001b[0mdt\u001b[0m\u001b[1;33m[\u001b[0m\u001b[1;36m5\u001b[0m\u001b[1;33m]\u001b[0m\u001b[1;33m)\u001b[0m\u001b[1;33m\u001b[0m\u001b[0m\n\u001b[0m\u001b[0;32m      2\u001b[0m \u001b[0mprint\u001b[0m \u001b[1;33m(\u001b[0m\u001b[0mdt\u001b[0m\u001b[1;33m[\u001b[0m\u001b[1;36m12\u001b[0m\u001b[1;33m]\u001b[0m\u001b[1;33m)\u001b[0m\u001b[1;33m\u001b[0m\u001b[0m\n",
      "\u001b[1;31mKeyError\u001b[0m: 5"
     ]
    }
   ],
   "source": [
    "print (dt[5])\n",
    "print (dt[12])"
   ]
  },
  {
   "cell_type": "markdown",
   "metadata": {},
   "source": [
    "Lists, tuples and strings are sequences; the individual elements occur in order; we can use indexing and slicing operations on these data types.  <font color='red'> The items in Dictionaries do not occur in order </font>.  Hence, you cannot use slicing or indexing operations on them. <br>Why use Dictionaries?<hr>"
   ]
  },
  {
   "cell_type": "code",
   "execution_count": 6,
   "metadata": {},
   "outputs": [
    {
     "name": "stdout",
     "output_type": "stream",
     "text": [
      "1\n",
      "2\n",
      "3\n",
      "4\n"
     ]
    }
   ],
   "source": [
    "dt={1: 'Nanda', 2: 'Sara', 3: 'Kim', 4: 'Juan'}\n",
    "\n",
    "for key in dt.keys():\n",
    "    print(key)"
   ]
  },
  {
   "cell_type": "code",
   "execution_count": 7,
   "metadata": {},
   "outputs": [
    {
     "name": "stdout",
     "output_type": "stream",
     "text": [
      "1\n",
      "2\n",
      "3\n",
      "4\n"
     ]
    }
   ],
   "source": [
    "#what does i access - key or value?\n",
    "\n",
    "for i in dt:\n",
    "    print(i)"
   ]
  },
  {
   "cell_type": "code",
   "execution_count": 8,
   "metadata": {},
   "outputs": [
    {
     "name": "stdout",
     "output_type": "stream",
     "text": [
      "Nanda\n",
      "Sara\n",
      "Kim\n",
      "Juan\n"
     ]
    }
   ],
   "source": [
    "# To access values in a dictionary\n",
    "\n",
    "for value in dt.values():\n",
    "    print(value)"
   ]
  },
  {
   "cell_type": "code",
   "execution_count": null,
   "metadata": {},
   "outputs": [],
   "source": [
    "%reset"
   ]
  },
  {
   "cell_type": "code",
   "execution_count": 9,
   "metadata": {},
   "outputs": [
    {
     "name": "stdout",
     "output_type": "stream",
     "text": [
      "dict_items([(1, 'Nanda'), (2, 'Sara'), (3, 'Kim'), (4, 'Juan')])\n",
      "1 Nanda\n",
      "2 Sara\n",
      "3 Kim\n",
      "4 Juan\n"
     ]
    }
   ],
   "source": [
    "dt={1: 'Nanda', 2: 'Sara', 3: 'Kim', 4: 'Juan'}\n",
    "print (dt.items())\n",
    "\n",
    "for key,value in dt.items():\n",
    "    print ( key,value)\n",
    "    \n"
   ]
  },
  {
   "cell_type": "code",
   "execution_count": 10,
   "metadata": {},
   "outputs": [
    {
     "name": "stdout",
     "output_type": "stream",
     "text": [
      "dict_items([(1, 'Nanda'), (2, 'Sara'), (3, 'Kim'), (4, 'Juan')])\n",
      "1 Nanda\n"
     ]
    }
   ],
   "source": [
    "dt={1: 'Nanda', 2: 'Sara', 3: 'Kim', 4: 'Juan'}\n",
    "print (dt.items())\n",
    "\n",
    "for key,value in dt.items():\n",
    "    if value=='Nanda':\n",
    "        print ( key,value)"
   ]
  },
  {
   "cell_type": "code",
   "execution_count": 10,
   "metadata": {},
   "outputs": [
    {
     "name": "stdout",
     "output_type": "stream",
     "text": [
      "(1, 'Nanda')\n",
      "(2, 'Sara')\n",
      "(3, 'Kim')\n",
      "(4, 'Juan')\n"
     ]
    }
   ],
   "source": [
    "for t in dt.items(): \n",
    "    print (t)"
   ]
  },
  {
   "cell_type": "code",
   "execution_count": 11,
   "metadata": {},
   "outputs": [
    {
     "name": "stdout",
     "output_type": "stream",
     "text": [
      "{'Jan': 110, 'Feb': 90, 'Mar': 130, 'Apr': 80, 'May': 200}\n"
     ]
    }
   ],
   "source": [
    "# Operations, order in which key-value pairs are accessed.\n",
    "\n",
    "dtSales={'Jan':110, 'Feb':90, 'Mar':130, 'Apr':80}\n",
    "dtSales['May']=200\n",
    "print(dtSales)"
   ]
  },
  {
   "cell_type": "code",
   "execution_count": 12,
   "metadata": {},
   "outputs": [
    {
     "name": "stdout",
     "output_type": "stream",
     "text": [
      "{'Jan': 110, 'Feb': 90, 'Mar': 130, 'Apr': 90, 'May': 210}\n"
     ]
    }
   ],
   "source": [
    "# Working with values in dictionary\n",
    "\n",
    "dtSales['May']+=10\n",
    "dtSales['Apr']=90\n",
    "print(dtSales)"
   ]
  },
  {
   "cell_type": "code",
   "execution_count": 13,
   "metadata": {},
   "outputs": [
    {
     "name": "stdout",
     "output_type": "stream",
     "text": [
      "True\n"
     ]
    }
   ],
   "source": [
    "dt={1: 'Nanda', 2: 'Sara', 3: 'Kim', 4: 'Juan'}\n",
    "xbool=isinstance(dt,dict)\n",
    "print(xbool)\n"
   ]
  },
  {
   "cell_type": "code",
   "execution_count": 14,
   "metadata": {},
   "outputs": [
    {
     "name": "stdout",
     "output_type": "stream",
     "text": [
      "{1: 'Nanda', 2: 'Sara', 3: 'Kim', 4: 'Juan'}\n"
     ]
    }
   ],
   "source": [
    "print(dt)"
   ]
  },
  {
   "cell_type": "code",
   "execution_count": 15,
   "metadata": {},
   "outputs": [
    {
     "name": "stdout",
     "output_type": "stream",
     "text": [
      "True False\n"
     ]
    }
   ],
   "source": [
    "xbool1=1 in dt\n",
    "xbool2='Nanda' in dt\n",
    "print (xbool1, xbool2)"
   ]
  },
  {
   "cell_type": "code",
   "execution_count": 16,
   "metadata": {},
   "outputs": [
    {
     "name": "stdout",
     "output_type": "stream",
     "text": [
      "True\n"
     ]
    }
   ],
   "source": [
    "xbool3='Nanda' in (dt.values())\n",
    "print(xbool3)"
   ]
  },
  {
   "cell_type": "code",
   "execution_count": null,
   "metadata": {},
   "outputs": [],
   "source": [
    "print(dt.values())"
   ]
  },
  {
   "cell_type": "code",
   "execution_count": 17,
   "metadata": {},
   "outputs": [
    {
     "name": "stdout",
     "output_type": "stream",
     "text": [
      "{2: 'Sara', 3: 'Kim', 4: 'Juan'}\n",
      "Nanda\n"
     ]
    }
   ],
   "source": [
    "# pop returns the value of the key referred to in the argument\n",
    "dt={1: 'Nanda', 2: 'Sara', 3: 'Kim', 4: 'Juan'}\n",
    "v=dt.pop(1)\n",
    "print(dt,v, sep='\\n')"
   ]
  },
  {
   "cell_type": "code",
   "execution_count": 18,
   "metadata": {},
   "outputs": [
    {
     "name": "stdout",
     "output_type": "stream",
     "text": [
      "{2: 'Sara', 3: 'Kim'}\n",
      "(4, 'Juan')\n"
     ]
    }
   ],
   "source": [
    "v=dt.popitem()\n",
    "print(dt,v, sep='\\n')"
   ]
  },
  {
   "cell_type": "code",
   "execution_count": 6,
   "metadata": {},
   "outputs": [
    {
     "name": "stdout",
     "output_type": "stream",
     "text": [
      "0\n"
     ]
    }
   ],
   "source": [
    "dt={2: 'Sara', 3: 'Kim', 4: 'Juan'}\n",
    "v=dt.get(5,0)\n",
    "print(v)"
   ]
  },
  {
   "cell_type": "code",
   "execution_count": 7,
   "metadata": {},
   "outputs": [
    {
     "ename": "KeyError",
     "evalue": "5",
     "output_type": "error",
     "traceback": [
      "\u001b[1;31m---------------------------------------------------------------------------\u001b[0m",
      "\u001b[1;31mKeyError\u001b[0m                                  Traceback (most recent call last)",
      "\u001b[1;32m<ipython-input-7-81ac2c6395c2>\u001b[0m in \u001b[0;36m<module>\u001b[1;34m()\u001b[0m\n\u001b[1;32m----> 1\u001b[1;33m \u001b[0mprint\u001b[0m\u001b[1;33m(\u001b[0m\u001b[0mdt\u001b[0m\u001b[1;33m[\u001b[0m\u001b[1;36m5\u001b[0m\u001b[1;33m]\u001b[0m\u001b[1;33m)\u001b[0m\u001b[1;33m\u001b[0m\u001b[0m\n\u001b[0m",
      "\u001b[1;31mKeyError\u001b[0m: 5"
     ]
    }
   ],
   "source": [
    "print(dt[5])"
   ]
  },
  {
   "cell_type": "code",
   "execution_count": 21,
   "metadata": {},
   "outputs": [
    {
     "name": "stdout",
     "output_type": "stream",
     "text": [
      "{2: 'Sara', 3: 'Kim', 4: 'Juan'}\n",
      "{2: 'Sara', 3: 'Kim', 4: 'Juan'}\n"
     ]
    }
   ],
   "source": [
    "v=dt.copy()\n",
    "print(dt,v, sep='\\n')"
   ]
  },
  {
   "cell_type": "code",
   "execution_count": 22,
   "metadata": {},
   "outputs": [
    {
     "name": "stdout",
     "output_type": "stream",
     "text": [
      "{2: 'Sara', 3: 'Kim', 4: 'Juan'}\n",
      "{2: 'Olivia', 3: 'Kim', 4: 'Juan'}\n"
     ]
    }
   ],
   "source": [
    "v[2]='Olivia'\n",
    "print(dt,v, sep='\\n')"
   ]
  },
  {
   "cell_type": "code",
   "execution_count": null,
   "metadata": {},
   "outputs": [],
   "source": [
    "dt.clear()\n",
    "print(dt)\n"
   ]
  },
  {
   "cell_type": "markdown",
   "metadata": {},
   "source": [
    "Exercise:\n",
    "1) Think about what kind of code you will need to write to take a word (say: 'aikaramba') and provide a listing of how many times each alphabet appears in the word (no need to account for absent alphabets).\n",
    "2) Write code..."
   ]
  },
  {
   "cell_type": "code",
   "execution_count": null,
   "metadata": {},
   "outputs": [],
   "source": [
    "# Dictionaries to count\n",
    "\n",
    "word='holy cow'\n",
    "dtC={}\n",
    "for letter in word:\n",
    "    if letter not in dtC:\n",
    "        dtC[letter]=1\n",
    "    else:\n",
    "        dtC[letter]+=1\n",
    "    print(letter, dtC)\n",
    "print('\\n',dtC)"
   ]
  },
  {
   "cell_type": "code",
   "execution_count": null,
   "metadata": {},
   "outputs": [],
   "source": [
    "del(dtC[' '])\n",
    "print(dtC)"
   ]
  },
  {
   "cell_type": "code",
   "execution_count": null,
   "metadata": {},
   "outputs": [],
   "source": [
    "word='Holy Cow'\n",
    "dtC={}\n",
    "for letter in word.upper():\n",
    "    if letter not in dtC:\n",
    "        dtC[letter]=1\n",
    "    else:\n",
    "        dtC[letter]+=1\n",
    "print(dtC)"
   ]
  },
  {
   "cell_type": "code",
   "execution_count": 8,
   "metadata": {},
   "outputs": [
    {
     "name": "stdout",
     "output_type": "stream",
     "text": [
      "The Big Lebowski, 1998\n",
      "Shaun of the Dead, 2004\n",
      "Grosse Pointe Blank, 1997\n",
      "Dawn of the Dead, 1978\n",
      "Dawn of the Dead, 2004\n",
      "The Big Chill, 1983\n"
     ]
    }
   ],
   "source": [
    "fob=open('movies-short.txt')  \n",
    "for line in fob:\n",
    "    print (line.rstrip())\n",
    "fob.close()"
   ]
  },
  {
   "cell_type": "code",
   "execution_count": 9,
   "metadata": {},
   "outputs": [
    {
     "name": "stdout",
     "output_type": "stream",
     "text": [
      "['The', 'Big', 'Lebowski,', '1998']\n",
      "[(3, 'Big'), (3, 'The'), (4, '1998'), (9, 'Lebowski,')]\n",
      "['Shaun', 'of', 'the', 'Dead,', '2004']\n",
      "[(2, 'of'), (3, 'the'), (4, '2004'), (5, 'Dead,'), (5, 'Shaun')]\n",
      "['Grosse', 'Pointe', 'Blank,', '1997']\n",
      "[(4, '1997'), (6, 'Blank,'), (6, 'Grosse'), (6, 'Pointe')]\n",
      "['Dawn', 'of', 'the', 'Dead,', '1978']\n",
      "[(2, 'of'), (3, 'the'), (4, '1978'), (4, 'Dawn'), (5, 'Dead,')]\n",
      "['Dawn', 'of', 'the', 'Dead,', '2004']\n",
      "[(2, 'of'), (3, 'the'), (4, '2004'), (4, 'Dawn'), (5, 'Dead,')]\n",
      "['The', 'Big', 'Chill,', '1983']\n",
      "[(3, 'Big'), (3, 'The'), (4, '1983'), (6, 'Chill,')]\n"
     ]
    }
   ],
   "source": [
    "# sort words in each line by length\n",
    "\n",
    "fob=open('movies-short.txt')  \n",
    "lis=[]\n",
    "for line in fob:\n",
    "    words=line.split()\n",
    "    print(words)\n",
    "    for word in words:\n",
    "        lis.append((len(word),word))\n",
    "    lis.sort()\n",
    "    print(lis)\n",
    "    lis=[]\n",
    "fob.close()    "
   ]
  },
  {
   "cell_type": "code",
   "execution_count": null,
   "metadata": {},
   "outputs": [],
   "source": [
    "fob=open('movies-short.txt')  \n",
    "dtC=dict()\n",
    "for line in fob:\n",
    "    words=line.split()\n",
    "    print (words)\n",
    "    for word in words:\n",
    "        if word not in dtC:\n",
    "            dtC[word]=1\n",
    "        else:\n",
    "            dtC[word]+=1\n",
    "fob.close()    \n",
    "print(dtC)"
   ]
  },
  {
   "cell_type": "code",
   "execution_count": null,
   "metadata": {},
   "outputs": [],
   "source": [
    "t=dtC.items()\n",
    "print(dtC, t, sep='\\n\\n')"
   ]
  },
  {
   "cell_type": "code",
   "execution_count": null,
   "metadata": {},
   "outputs": [],
   "source": [
    "lis=list(dtC.items())\n",
    "print(lis)"
   ]
  },
  {
   "cell_type": "code",
   "execution_count": null,
   "metadata": {},
   "outputs": [],
   "source": [
    "# sort by key\n",
    "\n",
    "lis.sort()\n",
    "print(lis)"
   ]
  },
  {
   "cell_type": "code",
   "execution_count": 1,
   "metadata": {},
   "outputs": [
    {
     "ename": "NameError",
     "evalue": "name 'dtC' is not defined",
     "output_type": "error",
     "traceback": [
      "\u001b[1;31m---------------------------------------------------------------------------\u001b[0m",
      "\u001b[1;31mNameError\u001b[0m                                 Traceback (most recent call last)",
      "\u001b[1;32m<ipython-input-1-3a11208a3a16>\u001b[0m in \u001b[0;36m<module>\u001b[1;34m\u001b[0m\n\u001b[0;32m      2\u001b[0m \u001b[1;33m\u001b[0m\u001b[0m\n\u001b[0;32m      3\u001b[0m \u001b[0mnewlis\u001b[0m\u001b[1;33m=\u001b[0m\u001b[1;33m[\u001b[0m\u001b[1;33m]\u001b[0m\u001b[1;33m\u001b[0m\u001b[1;33m\u001b[0m\u001b[0m\n\u001b[1;32m----> 4\u001b[1;33m \u001b[1;32mfor\u001b[0m \u001b[0mkey\u001b[0m\u001b[1;33m,\u001b[0m\u001b[0mval\u001b[0m \u001b[1;32min\u001b[0m \u001b[0mdtC\u001b[0m\u001b[1;33m.\u001b[0m\u001b[0mitems\u001b[0m\u001b[1;33m(\u001b[0m\u001b[1;33m)\u001b[0m\u001b[1;33m:\u001b[0m\u001b[1;33m\u001b[0m\u001b[1;33m\u001b[0m\u001b[0m\n\u001b[0m\u001b[0;32m      5\u001b[0m     \u001b[0mnewlis\u001b[0m\u001b[1;33m.\u001b[0m\u001b[0mappend\u001b[0m\u001b[1;33m(\u001b[0m\u001b[1;33m(\u001b[0m\u001b[0mval\u001b[0m\u001b[1;33m,\u001b[0m\u001b[0mkey\u001b[0m\u001b[1;33m)\u001b[0m\u001b[1;33m)\u001b[0m\u001b[1;33m\u001b[0m\u001b[1;33m\u001b[0m\u001b[0m\n\u001b[0;32m      6\u001b[0m \u001b[0mnewlis\u001b[0m\u001b[1;33m.\u001b[0m\u001b[0msort\u001b[0m\u001b[1;33m(\u001b[0m\u001b[0mreverse\u001b[0m\u001b[1;33m=\u001b[0m\u001b[1;32mTrue\u001b[0m\u001b[1;33m)\u001b[0m\u001b[1;33m\u001b[0m\u001b[1;33m\u001b[0m\u001b[0m\n",
      "\u001b[1;31mNameError\u001b[0m: name 'dtC' is not defined"
     ]
    }
   ],
   "source": [
    "# sort by value\n",
    "\n",
    "newlis=[]\n",
    "for key,val in dtC.items():\n",
    "    newlis.append((val,key))\n",
    "newlis.sort(reverse=True)\n",
    "print(newlis)"
   ]
  },
  {
   "cell_type": "code",
   "execution_count": null,
   "metadata": {},
   "outputs": [],
   "source": [
    "dt={1: 'Nanda', 2: 'Sara', 3: 'Kim', 4: 'Juan'}\n",
    "del dt[1]\n",
    "print(len(dt))"
   ]
  },
  {
   "cell_type": "code",
   "execution_count": 12,
   "metadata": {},
   "outputs": [
    {
     "name": "stdout",
     "output_type": "stream",
     "text": [
      "{'Teacher1': 'Nanda'}\n"
     ]
    }
   ],
   "source": [
    "d={}\n",
    "d['Teacher1']='Nanda'\n",
    "print(d)"
   ]
  },
  {
   "cell_type": "code",
   "execution_count": 18,
   "metadata": {},
   "outputs": [
    {
     "name": "stdout",
     "output_type": "stream",
     "text": [
      "{'CIS2200': 'Izen', 'CIS3100': 'Ennoure', 'CIS3120': 'Kumar', 'CIS3400': 'Ferns', 'CIS3750': 'Gubernat', 'CIS3920': 'Cai', 'CIS4100': 'Friedman', 'CIS4110': 'Finnegan', 'CIS4160': 'Craig', 'CIS4400': 'Holowczak', 'CIS4800': 'Finnegan', 'CIS5800': 'Brown', 'CIS9340': 'Kline', 'CIS9440': 'Holowczak', 'CIS9480': 'Bianco', 'CIS9490': 'Kiris', 'CIS9557': 'Kumar', 'CIS9660': 'Gao'}\n"
     ]
    }
   ],
   "source": [
    "f=open('CourseInstructor.txt','r')\n",
    "d={}\n",
    "for i in f:\n",
    "    l=i.split()\n",
    "    d[l[0]]=l[1]\n",
    "print(d)"
   ]
  },
  {
   "cell_type": "code",
   "execution_count": 20,
   "metadata": {},
   "outputs": [
    {
     "data": {
      "text/plain": [
       "'Holowczak'"
      ]
     },
     "execution_count": 20,
     "metadata": {},
     "output_type": "execute_result"
    }
   ],
   "source": [
    "d['CIS4400']"
   ]
  },
  {
   "cell_type": "code",
   "execution_count": null,
   "metadata": {},
   "outputs": [],
   "source": []
  }
 ],
 "metadata": {
  "kernelspec": {
   "display_name": "Python 3",
   "language": "python",
   "name": "python3"
  },
  "language_info": {
   "codemirror_mode": {
    "name": "ipython",
    "version": 3
   },
   "file_extension": ".py",
   "mimetype": "text/x-python",
   "name": "python",
   "nbconvert_exporter": "python",
   "pygments_lexer": "ipython3",
   "version": "3.7.3"
  }
 },
 "nbformat": 4,
 "nbformat_minor": 1
}
